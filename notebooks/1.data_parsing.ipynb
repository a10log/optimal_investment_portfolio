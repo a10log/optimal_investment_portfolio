{
 "cells": [
  {
   "cell_type": "markdown",
   "id": "34065ada-bb3c-4301-a093-2780c0157afb",
   "metadata": {},
   "source": [
    "# Data parsing"
   ]
  },
  {
   "cell_type": "markdown",
   "id": "1ea1b624-9c1f-4bb7-a129-ee1973c33309",
   "metadata": {},
   "source": [
    "Ноутбук со сбором данных с информационных сайтов:\n",
    "- **MOEX data** - получение данных с официального сайт ММВБ [https://data.moex.com/products/moexdata](https://data.moex.com/products/moexdata)\n",
    "- **Dividends data** - получение данных о дивидендах компаний  [https://закрытияреестров.рф/_/](https://закрытияреестров.рф/_/)\n"
   ]
  },
  {
   "cell_type": "markdown",
   "id": "57d3562e-79f1-4d57-9699-d03a4508ed3d",
   "metadata": {},
   "source": [
    "## Libs"
   ]
  },
  {
   "cell_type": "code",
   "execution_count": 1,
   "id": "cb6b695a-533b-49e4-8ad8-4592a585a7ae",
   "metadata": {},
   "outputs": [],
   "source": [
    "import os\n",
    "import json\n",
    "import time\n",
    "import random\n",
    "import requests\n",
    "import datetime\n",
    "import pandas as pd\n",
    "\n",
    "os.chdir(\"../\")\n",
    "from src.parsing.moex import (\n",
    "    update_moex_instruments_data,\n",
    "    update_moex_dynamics_data,\n",
    "    read_moex_dynamics_data\n",
    "    \n",
    ")\n",
    "from src.parsing.dividends import update_companies_dividends_data\n",
    "from src.parsing.base import PathsList"
   ]
  },
  {
   "cell_type": "markdown",
   "id": "1701f70d-b0f8-4c40-a8b0-48392ee51d34",
   "metadata": {},
   "source": [
    "## MOEX data"
   ]
  },
  {
   "cell_type": "code",
   "execution_count": 2,
   "id": "47f83a60-3131-42ff-8657-a3743b02618b",
   "metadata": {},
   "outputs": [
    {
     "name": "stderr",
     "output_type": "stream",
     "text": [
      "100%|█████████████████████████████████████████| 452/452 [14:51<00:00,  1.97s/it]\n"
     ]
    }
   ],
   "source": [
    "# Получить информацию о доступных инструментах\n",
    "update_moex_instruments_data()\n",
    "\n",
    "# Обновить данные динамики стоимости инструментов\n",
    "update_moex_dynamics_data()"
   ]
  },
  {
   "cell_type": "code",
   "execution_count": 7,
   "id": "e2dec0ef-c112-4c63-b28b-8c2a0d439d34",
   "metadata": {},
   "outputs": [
    {
     "name": "stderr",
     "output_type": "stream",
     "text": [
      "100%|█████████████████████████████████████████| 452/452 [00:11<00:00, 39.85it/s]\n"
     ]
    }
   ],
   "source": [
    "df_dynamics = read_moex_dynamics_data()"
   ]
  },
  {
   "cell_type": "code",
   "execution_count": 4,
   "id": "57dd078f-84a0-4cc5-8a31-5f79d8637802",
   "metadata": {},
   "outputs": [
    {
     "name": "stdout",
     "output_type": "stream",
     "text": [
      "(458519, 22)\n"
     ]
    },
    {
     "data": {
      "text/html": [
       "<div>\n",
       "<style scoped>\n",
       "    .dataframe tbody tr th:only-of-type {\n",
       "        vertical-align: middle;\n",
       "    }\n",
       "\n",
       "    .dataframe tbody tr th {\n",
       "        vertical-align: top;\n",
       "    }\n",
       "\n",
       "    .dataframe thead th {\n",
       "        text-align: right;\n",
       "    }\n",
       "</style>\n",
       "<table border=\"1\" class=\"dataframe\">\n",
       "  <thead>\n",
       "    <tr style=\"text-align: right;\">\n",
       "      <th></th>\n",
       "      <th>id</th>\n",
       "      <th>secId</th>\n",
       "      <th>board</th>\n",
       "      <th>boardGroup</th>\n",
       "      <th>shortName</th>\n",
       "      <th>isin</th>\n",
       "      <th>type</th>\n",
       "      <th>listLevel</th>\n",
       "      <th>date</th>\n",
       "      <th>last</th>\n",
       "      <th>...</th>\n",
       "      <th>open</th>\n",
       "      <th>high</th>\n",
       "      <th>low</th>\n",
       "      <th>waPrice</th>\n",
       "      <th>volume</th>\n",
       "      <th>numTrades</th>\n",
       "      <th>volumeCount</th>\n",
       "      <th>issuerName</th>\n",
       "      <th>capitalization</th>\n",
       "      <th>emitterId</th>\n",
       "    </tr>\n",
       "  </thead>\n",
       "  <tbody>\n",
       "    <tr>\n",
       "      <th>0</th>\n",
       "      <td>444</td>\n",
       "      <td>KLSB</td>\n",
       "      <td>TQBR</td>\n",
       "      <td>MAIN</td>\n",
       "      <td>КалужскСК</td>\n",
       "      <td>RU000A0DKZK3</td>\n",
       "      <td>common_share</td>\n",
       "      <td>3.0</td>\n",
       "      <td>2025-07-03</td>\n",
       "      <td>21.84</td>\n",
       "      <td>...</td>\n",
       "      <td>21.70</td>\n",
       "      <td>21.92</td>\n",
       "      <td>21.68</td>\n",
       "      <td>21.82</td>\n",
       "      <td>1119304.0</td>\n",
       "      <td>94</td>\n",
       "      <td>51300</td>\n",
       "      <td>ПАО \"Калужская сбытовая компания\"</td>\n",
       "      <td>1.998084e+09</td>\n",
       "      <td>945</td>\n",
       "    </tr>\n",
       "    <tr>\n",
       "      <th>1</th>\n",
       "      <td>444</td>\n",
       "      <td>KLSB</td>\n",
       "      <td>TQBR</td>\n",
       "      <td>MAIN</td>\n",
       "      <td>КалужскСК</td>\n",
       "      <td>RU000A0DKZK3</td>\n",
       "      <td>common_share</td>\n",
       "      <td>3.0</td>\n",
       "      <td>2025-07-02</td>\n",
       "      <td>21.69</td>\n",
       "      <td>...</td>\n",
       "      <td>22.11</td>\n",
       "      <td>22.17</td>\n",
       "      <td>21.69</td>\n",
       "      <td>21.89</td>\n",
       "      <td>1188561.0</td>\n",
       "      <td>298</td>\n",
       "      <td>54300</td>\n",
       "      <td>ПАО \"Калужская сбытовая компания\"</td>\n",
       "      <td>1.984361e+09</td>\n",
       "      <td>945</td>\n",
       "    </tr>\n",
       "    <tr>\n",
       "      <th>2</th>\n",
       "      <td>444</td>\n",
       "      <td>KLSB</td>\n",
       "      <td>TQBR</td>\n",
       "      <td>MAIN</td>\n",
       "      <td>КалужскСК</td>\n",
       "      <td>RU000A0DKZK3</td>\n",
       "      <td>common_share</td>\n",
       "      <td>3.0</td>\n",
       "      <td>2025-07-01</td>\n",
       "      <td>21.99</td>\n",
       "      <td>...</td>\n",
       "      <td>22.03</td>\n",
       "      <td>22.30</td>\n",
       "      <td>21.99</td>\n",
       "      <td>22.08</td>\n",
       "      <td>1346995.0</td>\n",
       "      <td>196</td>\n",
       "      <td>61000</td>\n",
       "      <td>ПАО \"Калужская сбытовая компания\"</td>\n",
       "      <td>2.011807e+09</td>\n",
       "      <td>945</td>\n",
       "    </tr>\n",
       "  </tbody>\n",
       "</table>\n",
       "<p>3 rows × 22 columns</p>\n",
       "</div>"
      ],
      "text/plain": [
       "    id secId board boardGroup  shortName          isin          type  \\\n",
       "0  444  KLSB  TQBR       MAIN  КалужскСК  RU000A0DKZK3  common_share   \n",
       "1  444  KLSB  TQBR       MAIN  КалужскСК  RU000A0DKZK3  common_share   \n",
       "2  444  KLSB  TQBR       MAIN  КалужскСК  RU000A0DKZK3  common_share   \n",
       "\n",
       "   listLevel        date   last  ...   open   high    low  waPrice     volume  \\\n",
       "0        3.0  2025-07-03  21.84  ...  21.70  21.92  21.68    21.82  1119304.0   \n",
       "1        3.0  2025-07-02  21.69  ...  22.11  22.17  21.69    21.89  1188561.0   \n",
       "2        3.0  2025-07-01  21.99  ...  22.03  22.30  21.99    22.08  1346995.0   \n",
       "\n",
       "   numTrades  volumeCount                         issuerName  capitalization  \\\n",
       "0         94        51300  ПАО \"Калужская сбытовая компания\"    1.998084e+09   \n",
       "1        298        54300  ПАО \"Калужская сбытовая компания\"    1.984361e+09   \n",
       "2        196        61000  ПАО \"Калужская сбытовая компания\"    2.011807e+09   \n",
       "\n",
       "  emitterId  \n",
       "0       945  \n",
       "1       945  \n",
       "2       945  \n",
       "\n",
       "[3 rows x 22 columns]"
      ]
     },
     "execution_count": 4,
     "metadata": {},
     "output_type": "execute_result"
    }
   ],
   "source": [
    "print(df_dynamics.shape)\n",
    "df_dynamics.head(3)"
   ]
  },
  {
   "cell_type": "markdown",
   "id": "33f1bdef-9e77-46c1-a9e8-c55be9e14be2",
   "metadata": {},
   "source": [
    "## Dividends data"
   ]
  },
  {
   "cell_type": "code",
   "execution_count": 3,
   "id": "46650986-d64a-4fc2-9e22-64ead681dd14",
   "metadata": {},
   "outputs": [
    {
     "name": "stderr",
     "output_type": "stream",
     "text": [
      "100%|█████████████████████████████████████████| 286/286 [00:26<00:00, 10.90it/s]\n"
     ]
    }
   ],
   "source": [
    "# Обновить данные о дивидендах компаний\n",
    "update_companies_dividends_data()"
   ]
  },
  {
   "cell_type": "code",
   "execution_count": 4,
   "id": "2d38176f-caea-4f52-8ccb-f808a4bd1f52",
   "metadata": {},
   "outputs": [
    {
     "name": "stdout",
     "output_type": "stream",
     "text": [
      "(3999, 4)\n"
     ]
    },
    {
     "data": {
      "text/html": [
       "<div>\n",
       "<style scoped>\n",
       "    .dataframe tbody tr th:only-of-type {\n",
       "        vertical-align: middle;\n",
       "    }\n",
       "\n",
       "    .dataframe tbody tr th {\n",
       "        vertical-align: top;\n",
       "    }\n",
       "\n",
       "    .dataframe thead th {\n",
       "        text-align: right;\n",
       "    }\n",
       "</style>\n",
       "<table border=\"1\" class=\"dataframe\">\n",
       "  <thead>\n",
       "    <tr style=\"text-align: right;\">\n",
       "      <th></th>\n",
       "      <th>period</th>\n",
       "      <th>amount</th>\n",
       "      <th>company_short_name</th>\n",
       "      <th>company_name</th>\n",
       "    </tr>\n",
       "  </thead>\n",
       "  <tbody>\n",
       "    <tr>\n",
       "      <th>0</th>\n",
       "      <td>закрытие реестра 7.07.2025 2024</td>\n",
       "      <td>5,01 руб.</td>\n",
       "      <td>abrau-dyurso</td>\n",
       "      <td>Абрау-Дюро(ABRD)</td>\n",
       "    </tr>\n",
       "    <tr>\n",
       "      <th>1</th>\n",
       "      <td>закрытие реестра 17.07.2024 2023</td>\n",
       "      <td>3,27 руб.</td>\n",
       "      <td>abrau-dyurso</td>\n",
       "      <td>Абрау-Дюро(ABRD)</td>\n",
       "    </tr>\n",
       "    <tr>\n",
       "      <th>2</th>\n",
       "      <td>закрытие реестра 17.07.2023 2023 I квартал</td>\n",
       "      <td>6,14 руб.</td>\n",
       "      <td>abrau-dyurso</td>\n",
       "      <td>Абрау-Дюро(ABRD)</td>\n",
       "    </tr>\n",
       "  </tbody>\n",
       "</table>\n",
       "</div>"
      ],
      "text/plain": [
       "                                       period     amount company_short_name  \\\n",
       "0             закрытие реестра 7.07.2025 2024  5,01 руб.       abrau-dyurso   \n",
       "1            закрытие реестра 17.07.2024 2023  3,27 руб.       abrau-dyurso   \n",
       "2  закрытие реестра 17.07.2023 2023 I квартал  6,14 руб.       abrau-dyurso   \n",
       "\n",
       "       company_name  \n",
       "0  Абрау-Дюро(ABRD)  \n",
       "1  Абрау-Дюро(ABRD)  \n",
       "2  Абрау-Дюро(ABRD)  "
      ]
     },
     "execution_count": 4,
     "metadata": {},
     "output_type": "execute_result"
    }
   ],
   "source": [
    "df_dividends = pd.read_csv(\"./data/raw_dividends_data.csv\")\n",
    "print(df_dividends.shape)\n",
    "df_dividends.head(3)"
   ]
  },
  {
   "cell_type": "markdown",
   "id": "418184ca-d0fa-4136-a4c3-842b072e7f57",
   "metadata": {},
   "source": [
    "## Dollar exchange rate"
   ]
  },
  {
   "cell_type": "code",
   "execution_count": null,
   "id": "2d730fbe-91ae-4e34-a992-e47af88cb0cc",
   "metadata": {},
   "outputs": [],
   "source": [
    "#https://cbr.ru/currency_base/dynamics/?UniDbQuery.Posted=True&UniDbQuery.so=1&UniDbQuery.mode=1&UniDbQuery.date_req1=&UniDbQuery.date_req2=&UniDbQuery.VAL_NM_RQ=R01235&UniDbQuery.From=01.01.2015&UniDbQuery.To=04.07.2025"
   ]
  }
 ],
 "metadata": {
  "kernelspec": {
   "display_name": "Python 3 (ipykernel)",
   "language": "python",
   "name": "python3"
  },
  "language_info": {
   "codemirror_mode": {
    "name": "ipython",
    "version": 3
   },
   "file_extension": ".py",
   "mimetype": "text/x-python",
   "name": "python",
   "nbconvert_exporter": "python",
   "pygments_lexer": "ipython3",
   "version": "3.12.0"
  }
 },
 "nbformat": 4,
 "nbformat_minor": 5
}
